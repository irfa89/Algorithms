{
 "cells": [
  {
   "cell_type": "code",
   "execution_count": 3,
   "metadata": {},
   "outputs": [],
   "source": [
    "def selection_sort(arr):\n",
    "    marker = 0\n",
    "    while marker < len(arr):\n",
    "        for num in range(marker,len(arr)):\n",
    "            if arr[num] < arr[marker]:\n",
    "                arr[marker], arr[num] =  arr[num],arr[marker]\n",
    "        marker += 1\n",
    "        print(arr)"
   ]
  },
  {
   "cell_type": "code",
   "execution_count": 4,
   "metadata": {},
   "outputs": [
    {
     "name": "stdout",
     "output_type": "stream",
     "text": [
      "[1, 8, 6, 4, 10, 7, 8, 9, 3, 2, 5]\n",
      "[1, 2, 8, 6, 10, 7, 8, 9, 4, 3, 5]\n",
      "[1, 2, 3, 8, 10, 7, 8, 9, 6, 4, 5]\n",
      "[1, 2, 3, 4, 10, 8, 8, 9, 7, 6, 5]\n",
      "[1, 2, 3, 4, 5, 10, 8, 9, 8, 7, 6]\n",
      "[1, 2, 3, 4, 5, 6, 10, 9, 8, 8, 7]\n",
      "[1, 2, 3, 4, 5, 6, 7, 10, 9, 8, 8]\n",
      "[1, 2, 3, 4, 5, 6, 7, 8, 10, 9, 8]\n",
      "[1, 2, 3, 4, 5, 6, 7, 8, 8, 10, 9]\n",
      "[1, 2, 3, 4, 5, 6, 7, 8, 8, 9, 10]\n",
      "[1, 2, 3, 4, 5, 6, 7, 8, 8, 9, 10]\n"
     ]
    }
   ],
   "source": [
    "l = [6,8,1,4,10,7,8,9,3,2,5]\n",
    "selection_sort(l)"
   ]
  },
  {
   "cell_type": "code",
   "execution_count": null,
   "metadata": {},
   "outputs": [],
   "source": []
  }
 ],
 "metadata": {
  "kernelspec": {
   "display_name": "Python 3",
   "language": "python",
   "name": "python3"
  },
  "language_info": {
   "codemirror_mode": {
    "name": "ipython",
    "version": 3
   },
   "file_extension": ".py",
   "mimetype": "text/x-python",
   "name": "python",
   "nbconvert_exporter": "python",
   "pygments_lexer": "ipython3",
   "version": "3.6.4"
  }
 },
 "nbformat": 4,
 "nbformat_minor": 2
}
