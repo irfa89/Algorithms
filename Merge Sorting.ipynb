{
 "cells": [
  {
   "cell_type": "code",
   "execution_count": 34,
   "metadata": {},
   "outputs": [],
   "source": [
    "def merge(arr1, arr2):\n",
    "    \"\"\"\n",
    "    The two array passed to merge are sorted\n",
    "    \"\"\"\n",
    "    print(f\"Left array : {arr1} ; Right array :  {arr2}\")\n",
    "    sorted_arr = []\n",
    "    i,j = 0,0\n",
    "    while i < len(arr1) and j < len(arr2):\n",
    "        if arr1[i] < arr2[j]:\n",
    "            sorted_arr.append(arr1[i])\n",
    "            i += 1\n",
    "        else :\n",
    "            sorted_arr.append(arr2[j])\n",
    "            j += 1\n",
    "    while i < len(arr1):\n",
    "        sorted_arr.append(arr1[i])\n",
    "        i += 1\n",
    "    while j < len(arr2):\n",
    "        sorted_arr.append(arr2[j])\n",
    "        j += 1\n",
    "    print(f\"Final sorted array : {sorted_arr}\")\n",
    "    return sorted_arr"
   ]
  },
  {
   "cell_type": "code",
   "execution_count": 35,
   "metadata": {},
   "outputs": [],
   "source": [
    "#l1 = [2,4,5,7,9]\n",
    "#l2 = [1,3,6,10,13,15]\n",
    "#merge(l1,l2)"
   ]
  },
  {
   "cell_type": "code",
   "execution_count": 40,
   "metadata": {},
   "outputs": [],
   "source": [
    "def divide(arr1) :\n",
    "    if len(arr1) < 2:\n",
    "        return arr1[:]\n",
    "    else : \n",
    "        middle =  len(arr1)// 2\n",
    "        print(f\"Middle number : {arr1[middle]}\")\n",
    "        print(f\"left array : {arr1[:middle]} ; Right array : {arr1[middle:]}\")\n",
    "        left  = divide(arr1[:middle])\n",
    "        right = divide(arr1[middle:])\n",
    "        return merge(left,right)\n",
    "    "
   ]
  },
  {
   "cell_type": "code",
   "execution_count": 41,
   "metadata": {},
   "outputs": [
    {
     "name": "stdout",
     "output_type": "stream",
     "text": [
      "Middle number : 9\n",
      "left array : [1, 4, 6] ; Right array : [9, 10, 11, 13]\n",
      "Middle number : 4\n",
      "left array : [1] ; Right array : [4, 6]\n",
      "Middle number : 6\n",
      "left array : [4] ; Right array : [6]\n",
      "Left array : [4] ; Right array :  [6]\n",
      "Final sorted array : [4, 6]\n",
      "Left array : [1] ; Right array :  [4, 6]\n",
      "Final sorted array : [1, 4, 6]\n",
      "Middle number : 11\n",
      "left array : [9, 10] ; Right array : [11, 13]\n",
      "Middle number : 10\n",
      "left array : [9] ; Right array : [10]\n",
      "Left array : [9] ; Right array :  [10]\n",
      "Final sorted array : [9, 10]\n",
      "Middle number : 13\n",
      "left array : [11] ; Right array : [13]\n",
      "Left array : [11] ; Right array :  [13]\n",
      "Final sorted array : [11, 13]\n",
      "Left array : [9, 10] ; Right array :  [11, 13]\n",
      "Final sorted array : [9, 10, 11, 13]\n",
      "Left array : [1, 4, 6] ; Right array :  [9, 10, 11, 13]\n",
      "Final sorted array : [1, 4, 6, 9, 10, 11, 13]\n"
     ]
    },
    {
     "data": {
      "text/plain": [
       "[1, 4, 6, 9, 10, 11, 13]"
      ]
     },
     "execution_count": 41,
     "metadata": {},
     "output_type": "execute_result"
    }
   ],
   "source": [
    "l = [1,4,6,9,10,11,13]\n",
    "divide(l)"
   ]
  },
  {
   "cell_type": "code",
   "execution_count": null,
   "metadata": {},
   "outputs": [],
   "source": []
  }
 ],
 "metadata": {
  "kernelspec": {
   "display_name": "Python 3",
   "language": "python",
   "name": "python3"
  },
  "language_info": {
   "codemirror_mode": {
    "name": "ipython",
    "version": 3
   },
   "file_extension": ".py",
   "mimetype": "text/x-python",
   "name": "python",
   "nbconvert_exporter": "python",
   "pygments_lexer": "ipython3",
   "version": "3.6.4"
  }
 },
 "nbformat": 4,
 "nbformat_minor": 2
}
