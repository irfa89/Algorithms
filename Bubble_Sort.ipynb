{
 "cells": [
  {
   "cell_type": "code",
   "execution_count": 5,
   "metadata": {},
   "outputs": [],
   "source": [
    "def bubble_sort(arr):\n",
    "    swap_flag = True                        # using flag to avoid nxn iterations.\n",
    "    while swap_flag:\n",
    "        print(\"bubble sort iterations : \" + str(arr))\n",
    "        swap_flag = False                    # set the flag to false\n",
    "        for num in range(len(arr) - 1):     \n",
    "            if arr[num] > arr[num + 1]:     # when the condition is not true flag remains false and next while loop doesnt work\n",
    "                swap_flag = True             # set the flag to true for presense of iterations.\n",
    "                arr[num],arr[num+1] = arr[num+1],arr[num]"
   ]
  },
  {
   "cell_type": "code",
   "execution_count": 6,
   "metadata": {},
   "outputs": [
    {
     "name": "stdout",
     "output_type": "stream",
     "text": [
      "bubble sort iterations : [6, 8, 1, 4, 10, 7, 8, 9, 3, 2, 5]\n",
      "bubble sort iterations : [6, 1, 4, 8, 7, 8, 9, 3, 2, 5, 10]\n",
      "bubble sort iterations : [1, 4, 6, 7, 8, 8, 3, 2, 5, 9, 10]\n",
      "bubble sort iterations : [1, 4, 6, 7, 8, 3, 2, 5, 8, 9, 10]\n",
      "bubble sort iterations : [1, 4, 6, 7, 3, 2, 5, 8, 8, 9, 10]\n",
      "bubble sort iterations : [1, 4, 6, 3, 2, 5, 7, 8, 8, 9, 10]\n",
      "bubble sort iterations : [1, 4, 3, 2, 5, 6, 7, 8, 8, 9, 10]\n",
      "bubble sort iterations : [1, 3, 2, 4, 5, 6, 7, 8, 8, 9, 10]\n",
      "bubble sort iterations : [1, 2, 3, 4, 5, 6, 7, 8, 8, 9, 10]\n"
     ]
    }
   ],
   "source": [
    "l = [6,8,1,4,10,7,8,9,3,2,5]\n",
    "bubble_sort(l)"
   ]
  },
  {
   "cell_type": "code",
   "execution_count": null,
   "metadata": {},
   "outputs": [],
   "source": []
  }
 ],
 "metadata": {
  "kernelspec": {
   "display_name": "Python 3",
   "language": "python",
   "name": "python3"
  },
  "language_info": {
   "codemirror_mode": {
    "name": "ipython",
    "version": 3
   },
   "file_extension": ".py",
   "mimetype": "text/x-python",
   "name": "python",
   "nbconvert_exporter": "python",
   "pygments_lexer": "ipython3",
   "version": "3.6.4"
  }
 },
 "nbformat": 4,
 "nbformat_minor": 2
}
